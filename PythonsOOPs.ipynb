{
 "cells": [
  {
   "cell_type": "markdown",
   "metadata": {},
   "source": [
    "# Python OOPs"
   ]
  },
  {
   "cell_type": "markdown",
   "metadata": {},
   "source": [
    "## Theory Questions "
   ]
  },
  {
   "cell_type": "markdown",
   "metadata": {},
   "source": [
    "### Question 1 : What is Object-Oriented Programming (OOP)?"
   ]
  },
  {
   "cell_type": "markdown",
   "metadata": {},
   "source": [
    "Answer : Object-oriented programming is a programming paradigm that is based on the concept of \"objects\", which can contain data and code that manipulates that data. In OOP, objects are created from templates called \"classes\", which define the properties and behavior of the objects they create."
   ]
  },
  {
   "cell_type": "markdown",
   "metadata": {},
   "source": [
    "### Question 2 : What is a class in OOP?"
   ]
  },
  {
   "cell_type": "markdown",
   "metadata": {},
   "source": [
    "Answer : A class is a blueprint for creating objects, providing initial values, and defining behaviors."
   ]
  },
  {
   "cell_type": "markdown",
   "metadata": {},
   "source": [
    "### Question 3 : What is an object in OOP?"
   ]
  },
  {
   "cell_type": "markdown",
   "metadata": {},
   "source": [
    "Answer : An object is a unit of code that represents a particular aspect of a system and is the basic building block of a program"
   ]
  },
  {
   "cell_type": "markdown",
   "metadata": {},
   "source": [
    "### Question 4 : What is the difference between abstraction and encapsulation?"
   ]
  },
  {
   "cell_type": "markdown",
   "metadata": {},
   "source": [
    "Answer : Abstraction and encapsulation are both key principles of Object-Oriented Programming (OOP) that help design software that's easy to use and maintain. The main difference between them is that abstraction focuses on what an object does, while encapsulation focuses on how an object's data is accessed and manipulated."
   ]
  },
  {
   "cell_type": "markdown",
   "metadata": {},
   "source": [
    "### Question 5 : What are dunder methods in Python?"
   ]
  },
  {
   "cell_type": "markdown",
   "metadata": {},
   "source": [
    "Answer : What are Python Dunder Methods? | Scaler TopicsDunder methods, also known as magic methods or special methods, are predefined methods in Python that are used to add special functionality to classes and objects. Example : __init()__ , __add()__, __str()__,etc."
   ]
  },
  {
   "cell_type": "markdown",
   "metadata": {},
   "source": [
    "### Question 6 : Explain the concept of inheritance in OOP?"
   ]
  },
  {
   "cell_type": "markdown",
   "metadata": {},
   "source": [
    "Asnwer : Inheritance is a fundamental concept in object-oriented programming (OOP) that allows a class to inherit properties and behaviors from another class."
   ]
  },
  {
   "cell_type": "markdown",
   "metadata": {},
   "source": [
    "### Question 7 : What is polymorphism in OOP?"
   ]
  },
  {
   "cell_type": "markdown",
   "metadata": {},
   "source": [
    "Answer : Polymorphism is one of the most important concepts in OOP. It describes the ability of something to have or to be displayed in more than one form. The different forms arise because these entities can be assigned different meanings and used in various ways in multiple contexts."
   ]
  },
  {
   "cell_type": "markdown",
   "metadata": {},
   "source": [
    "### Question 8 :  How is encapsulation achieved in Python?"
   ]
  },
  {
   "cell_type": "markdown",
   "metadata": {},
   "source": [
    "Answer : Encapsulation is achieved by using access modifiers to limit access to a class's variables and methods."
   ]
  },
  {
   "cell_type": "markdown",
   "metadata": {},
   "source": [
    "### Question 9 :  What is a constructor in Python?"
   ]
  },
  {
   "cell_type": "markdown",
   "metadata": {},
   "source": [
    "Answer : In Python, a constructor is a special method that is automatically called when a new object is created from a class."
   ]
  },
  {
   "cell_type": "markdown",
   "metadata": {},
   "source": [
    "### Question 10 : What are class and static methods in Python?"
   ]
  },
  {
   "cell_type": "markdown",
   "metadata": {},
   "source": [
    "Answer : A class method takes cls as the first parameter while a static method needs no specific parameters. A class method can access or modify the class state while a static method can't access or modify it."
   ]
  },
  {
   "cell_type": "markdown",
   "metadata": {},
   "source": [
    "### Question 11 : What is method overloading in Python?"
   ]
  },
  {
   "cell_type": "markdown",
   "metadata": {},
   "source": [
    "Answer : Two or more methods have the same name but different numbers of parameters or different types of parameters, or both. These methods are called overloaded methods and this is called method overloading."
   ]
  },
  {
   "cell_type": "markdown",
   "metadata": {},
   "source": [
    "### Question 12 : What is method overriding in OOP?"
   ]
  },
  {
   "cell_type": "markdown",
   "metadata": {},
   "source": [
    "Answer : Method Overriding happens when a subclass redefines a method from its parent class with the same signature to provide a specific implementation."
   ]
  },
  {
   "cell_type": "markdown",
   "metadata": {},
   "source": [
    "### Question 13 : What is a property decorator in Python?"
   ]
  },
  {
   "cell_type": "markdown",
   "metadata": {},
   "source": [
    "Answer : A decorator feature in Python wraps in a function, appends several functionalities to existing code and then returns it."
   ]
  },
  {
   "cell_type": "markdown",
   "metadata": {},
   "source": [
    "### Question 14 : Why is polymorphism important in OOP?"
   ]
  },
  {
   "cell_type": "markdown",
   "metadata": {},
   "source": [
    "Answer : Polymorphism is an important feature of object-oriented programming (OOP) because it allows for code reusability, flexibility, and extensibility.\n",
    "\n",
    "Code reusability: Polymorphism allows programmers to reuse code, which saves time and speeds up development. \n",
    "\n",
    "Flexibility: Polymorphism allows programmers to perform a single action in multiple ways, and to define multiple forms of a single object, variable, or method. \n",
    "\n",
    "Extensibility: Polymorphism allows developers to create new classes derived from existing classes, without modifying the existing code.\n",
    "\n",
    "Method overloading: Polymorphism allows functions to share the same name but have different arguments. \n",
    "Method overriding: Polymorphism allows programmers to redefine methods for derived classes. "
   ]
  },
  {
   "cell_type": "markdown",
   "metadata": {},
   "source": [
    "### Question 15 : What is an abstract class in Python?"
   ]
  },
  {
   "cell_type": "markdown",
   "metadata": {},
   "source": [
    "Answer : In Python, an abstract class is a class that cannot be instantiated on its own and is used as a blueprint for other classes."
   ]
  },
  {
   "cell_type": "markdown",
   "metadata": {},
   "source": [
    "### Question 16 : What are the advantages of OOP?"
   ]
  },
  {
   "cell_type": "markdown",
   "metadata": {},
   "source": [
    "Answer : The main advantages of OOP include improved code organization through encapsulation, reusability via inheritance, flexibility with polymorphism, and simplification of complex systems through abstraction."
   ]
  },
  {
   "cell_type": "markdown",
   "metadata": {},
   "source": [
    "### Question 17 : What is the difference between a class variable and an instance variable?"
   ]
  },
  {
   "cell_type": "markdown",
   "metadata": {},
   "source": [
    "Answer : The main difference between a class variable and an instance variable is that class variables are shared by all instances of a class, while instance variables are unique to each instance."
   ]
  },
  {
   "cell_type": "markdown",
   "metadata": {},
   "source": [
    "### Question 18 : What is multiple inheritance in Python?"
   ]
  },
  {
   "cell_type": "markdown",
   "metadata": {},
   "source": [
    "Answer : Multiple inheritance is a feature in Python that allows a class to inherit attributes and methods from more than one parent class."
   ]
  },
  {
   "cell_type": "markdown",
   "metadata": {},
   "source": [
    "### Question 19 : Explain the purpose of ‘’__str__’ and ‘__repr__’ ‘ methods in Python?"
   ]
  },
  {
   "cell_type": "markdown",
   "metadata": {},
   "source": [
    "Answer : In Python, the str and repr methods are used to create string representations of objects:\n",
    "\n",
    "__str__\n",
    "\n",
    "Used to create a human-readable representation of an object. This is useful for printing objects for users.\n",
    "\n",
    "__repr__\n",
    "\n",
    "Used to create an official representation of an object that includes all of its information, such as its type, name, and memory address. This is useful for debugging, logging, and object inspection."
   ]
  },
  {
   "cell_type": "markdown",
   "metadata": {},
   "source": [
    "### Question 20 : What is the significance of the ‘super()’ function in Python?"
   ]
  },
  {
   "cell_type": "markdown",
   "metadata": {},
   "source": [
    "Answer : The super() function in Python is a built-in function that allows access to methods and properties of a parent class from a child class."
   ]
  },
  {
   "cell_type": "markdown",
   "metadata": {},
   "source": [
    "### Question 21 : What is the significance of the __del__ method in Python?"
   ]
  },
  {
   "cell_type": "markdown",
   "metadata": {},
   "source": [
    "Asnwer : The del method in Python is primarily used to delete objects in Python.\n",
    "    "
   ]
  },
  {
   "cell_type": "markdown",
   "metadata": {},
   "source": [
    "### Question 22 : What is the difference between @staticmethod and @classmethod in Python?"
   ]
  },
  {
   "cell_type": "markdown",
   "metadata": {},
   "source": [
    "Answer : The main difference between @classmethod and @staticmethod is that class methods can access and modify the class state, while static methods cannot.\n",
    "\n",
    "@classmethod : \n",
    "Creates a class method that takes the class as its first argument, cls. Class methods can be used for alternative constructors or actions related to the entire class. They can be called on the class itself, or on an instance of the class, but the instance is automatically passed as the first argument. Class methods can be overridden in subclasses.\n",
    "\n",
    "@staticmethod : \n",
    "Creates a static method that doesn't require self or cls as an argument. Static methods are utility methods that operate on parameters after receiving them. They are not bound to either the class or an instance of the class, and cannot be overridden in subclasses."
   ]
  },
  {
   "cell_type": "markdown",
   "metadata": {},
   "source": [
    "### Question 23 : How does polymorphism work in Python with inheritance?"
   ]
  },
  {
   "cell_type": "markdown",
   "metadata": {},
   "source": [
    "Answer : Polymorphism in Python with inheritance works by allowing a child class to have a method with the same name as a parent class method, and then redefining that method in the child class. This process is called method overriding."
   ]
  },
  {
   "cell_type": "markdown",
   "metadata": {},
   "source": [
    "### Question 24 : What is method chaining in Python OOP?"
   ]
  },
  {
   "cell_type": "markdown",
   "metadata": {},
   "source": [
    "Answer : Method chaining refers to calling multiple methods sequentially on the same object in a single expression."
   ]
  },
  {
   "cell_type": "markdown",
   "metadata": {},
   "source": [
    "### Question 25 : What is the purpose of the __call__ method in Python?"
   ]
  },
  {
   "cell_type": "markdown",
   "metadata": {},
   "source": [
    "Answer : The __call__ method is part of Python build-in methods also called dunder or magic methods because have two prefixes and suffix underscores in the method name. The main idea of __call__ method is to write a class and invoke it like a function. You can refer to it as callable object."
   ]
  },
  {
   "cell_type": "markdown",
   "metadata": {},
   "source": [
    "## Practical Questions"
   ]
  },
  {
   "cell_type": "markdown",
   "metadata": {},
   "source": [
    "### Question 1 :  Create a parent class Animal with a method speak() that prints a generic message. Create a child class Dog that overrides the speak() method to print \"Bark!\"."
   ]
  },
  {
   "cell_type": "code",
   "execution_count": 2,
   "metadata": {},
   "outputs": [],
   "source": [
    "class Parent: \n",
    "    def speak(self):\n",
    "        print(\"Bark!\")\n",
    "\n",
    "class Dog(Parent):\n",
    "    pass"
   ]
  },
  {
   "cell_type": "code",
   "execution_count": 3,
   "metadata": {},
   "outputs": [
    {
     "name": "stdout",
     "output_type": "stream",
     "text": [
      "Bark!\n"
     ]
    }
   ],
   "source": [
    "obj = Dog() #Object of the child class\n",
    "obj.speak()"
   ]
  },
  {
   "cell_type": "markdown",
   "metadata": {},
   "source": [
    "### Question 2 : Write a program to create an abstract class Shape with a method area(). Derive classes Circle and Rectangle from it and implement the area() method in both."
   ]
  },
  {
   "cell_type": "code",
   "execution_count": 6,
   "metadata": {},
   "outputs": [
    {
     "name": "stdout",
     "output_type": "stream",
     "text": [
      "Inside Circle class area method.\n",
      "Inside Rectangle class area method.\n"
     ]
    }
   ],
   "source": [
    "import abc \n",
    "\n",
    "class Shape:\n",
    "    @abc.abstractmethod\n",
    "    def area():\n",
    "        pass\n",
    "    \n",
    "class Circle(Shape):\n",
    "    def area(self):\n",
    "        print(\"Inside Circle class area method.\")\n",
    "        \n",
    "class Rectangle(Shape):\n",
    "    def area(self):\n",
    "        print(\"Inside Rectangle class area method.\")\n",
    "        \n",
    "c1 = Circle()\n",
    "c1.area()\n",
    "\n",
    "r1 = Rectangle()\n",
    "r1.area()"
   ]
  },
  {
   "cell_type": "markdown",
   "metadata": {},
   "source": [
    "### Question 3 : Implement a multi-level inheritance scenario where a class Vehicle has an attribute type. Derive a class Car and further derive a class ElectricCar that adds a battery attribute."
   ]
  },
  {
   "cell_type": "code",
   "execution_count": 1,
   "metadata": {},
   "outputs": [],
   "source": [
    "class Vehicle:\n",
    "    \n",
    "    def __init__(self,VehicleType):\n",
    "        self.VehicleType = VehicleType\n",
    "\n",
    "class Car(Vehicle):\n",
    "    pass\n",
    "\n",
    "class ElectricCar(Car):\n",
    "    def __init__(self, Battery):\n",
    "        self.Battery = Battery\n"
   ]
  },
  {
   "cell_type": "markdown",
   "metadata": {},
   "source": [
    "### Question 4 : Implement a multi-level inheritance scenario where a class Vehicle has an attribute type. Derive a class Car and further derive a class ElectricCar that adds a battery attribute."
   ]
  },
  {
   "cell_type": "markdown",
   "metadata": {},
   "source": [
    "#### Question is repeated. Please check Question 3 for your reference."
   ]
  },
  {
   "cell_type": "markdown",
   "metadata": {},
   "source": [
    "### Question 5 : Write a program to demonstrate encapsulation by creating a class BankAccount with private attributes balance and methods to deposit, withdraw, and check balance."
   ]
  },
  {
   "cell_type": "code",
   "execution_count": 18,
   "metadata": {},
   "outputs": [],
   "source": [
    "class Bank:\n",
    "    def __init__(self,balance):\n",
    "        self.__balance = balance\n",
    "    \n",
    "    def checkBalance(self):\n",
    "        return \"Current Balance : \",self.__balance\n",
    "    \n",
    "    def deposit(self , amount):\n",
    "        self.__balance = self.__balance + amount\n",
    "        return \"Balance after deposit : \",self.__balance\n",
    "    \n",
    "    def withdraw(self , withdrawAmount):\n",
    "        if self.__balance>= withdrawAmount:\n",
    "            self.__balance = self.__balance - withdrawAmount\n",
    "            return \"Current Balance after withdrawal : \", self.__balance\n",
    "        else:\n",
    "            return \"Insuffucient Balance \"\n",
    "            "
   ]
  },
  {
   "cell_type": "code",
   "execution_count": 16,
   "metadata": {},
   "outputs": [
    {
     "name": "stdout",
     "output_type": "stream",
     "text": [
      "('Current Balance : ', 1000)\n",
      "('Balance after deposit : ', 2000)\n",
      "('Current Balance after withdrawal : ', 500)\n",
      "Insuffucient Balance \n"
     ]
    }
   ],
   "source": [
    "obj1 = Bank(1000) #Initializing balance with 1000\n",
    "print(obj1.checkBalance()) #Checking the balance\n",
    "print(obj1.deposit(1000)) #Depositing 1000 , totol balance now 1000 + 1000 = 2000\n",
    "print(obj1.withdraw(1500)) #Withdrawal 1500 , Cuurent Balance : 2000-1500 = 500\n",
    "print(obj1.withdraw(5500)) #Since Balance is 500 but withdrawal amount is 5500 ,so it will throw an error."
   ]
  },
  {
   "cell_type": "markdown",
   "metadata": {},
   "source": [
    "### Question 6 : Demonstrate runtime polymorphism using a method play() in a base class Instrument. Derive classes Guitar and Piano that implement their own version of play()."
   ]
  },
  {
   "cell_type": "code",
   "execution_count": 19,
   "metadata": {},
   "outputs": [
    {
     "name": "stdout",
     "output_type": "stream",
     "text": [
      "Guitar Playing\n",
      "Piano Playing\n"
     ]
    }
   ],
   "source": [
    "class Instrument:\n",
    "    def play(self):\n",
    "        print(\"Playing\")\n",
    "        \n",
    "class Guitar(Instrument):\n",
    "    def play(self):\n",
    "        print(\"Guitar Playing\")\n",
    "        \n",
    "class Piano(Instrument):\n",
    "    def play(self):\n",
    "        print(\"Piano Playing\")\n",
    "        \n",
    "g1 = Guitar()\n",
    "g1.play()\n",
    "\n",
    "p1 = Piano()\n",
    "p1.play()\n",
    "    \n",
    "    \n",
    "        "
   ]
  },
  {
   "cell_type": "markdown",
   "metadata": {},
   "source": [
    "### Question 7 : Create a class MathOperations with a class method add_numbers() to add two numbers and a static method subtract_numbers() to subtract two numbers."
   ]
  },
  {
   "cell_type": "code",
   "execution_count": 54,
   "metadata": {},
   "outputs": [],
   "source": [
    "class MathOperations:\n",
    "    \n",
    "    @classmethod\n",
    "    def add_numbers(cls, x ,y):\n",
    "        return x+y\n",
    "    \n",
    "    @staticmethod\n",
    "    def subtract_numbers(x,y):\n",
    "        return x-y\n",
    "    "
   ]
  },
  {
   "cell_type": "code",
   "execution_count": 55,
   "metadata": {},
   "outputs": [
    {
     "name": "stdout",
     "output_type": "stream",
     "text": [
      "30\n",
      "10\n"
     ]
    }
   ],
   "source": [
    "result1 = MathOperations.add_numbers(20,10)\n",
    "print(result1)\n",
    "result2 = MathOperations.subtract_numbers(20,10)\n",
    "print(result2)"
   ]
  },
  {
   "cell_type": "markdown",
   "metadata": {},
   "source": [
    "### Question 8 : Implement a class Person with a class method to count the total number of persons created."
   ]
  },
  {
   "cell_type": "code",
   "execution_count": 10,
   "metadata": {},
   "outputs": [],
   "source": [
    "class Person:\n",
    "    \n",
    "    total_number_object = 0\n",
    "    def __init__(self,name):\n",
    "        self.name = name\n",
    "        Person.total_number_object = Person.total_number_object + 1\n",
    "        \n",
    "    @classmethod\n",
    "    def total_numbers(cls):\n",
    "        return cls.total_number_object\n",
    "        "
   ]
  },
  {
   "cell_type": "code",
   "execution_count": 11,
   "metadata": {},
   "outputs": [
    {
     "data": {
      "text/plain": [
       "0"
      ]
     },
     "execution_count": 11,
     "metadata": {},
     "output_type": "execute_result"
    }
   ],
   "source": [
    "Person.total_number_object"
   ]
  },
  {
   "cell_type": "code",
   "execution_count": 12,
   "metadata": {},
   "outputs": [],
   "source": [
    "p1 = Person(\"Divyank\")\n",
    "p2 = Person(\"Golu\")"
   ]
  },
  {
   "cell_type": "code",
   "execution_count": 13,
   "metadata": {},
   "outputs": [
    {
     "data": {
      "text/plain": [
       "2"
      ]
     },
     "execution_count": 13,
     "metadata": {},
     "output_type": "execute_result"
    }
   ],
   "source": [
    "Person.total_number_object"
   ]
  },
  {
   "cell_type": "markdown",
   "metadata": {},
   "source": [
    "### Question 9 : Write a class Fraction with attributes numerator and denominator. Override the str method to display the fraction as \"numerator/denominator\"."
   ]
  },
  {
   "cell_type": "code",
   "execution_count": 25,
   "metadata": {},
   "outputs": [],
   "source": [
    "class Fraction:\n",
    "    def __init__(self,x,y):\n",
    "        self.x = x\n",
    "        self.y = y\n",
    "        \n",
    "    def __str__(self):\n",
    "        return f\"{self.x}/{self.y}\"\n",
    "        "
   ]
  },
  {
   "cell_type": "code",
   "execution_count": 26,
   "metadata": {},
   "outputs": [
    {
     "data": {
      "text/plain": [
       "<__main__.Fraction at 0x1c6bbc24be0>"
      ]
     },
     "execution_count": 26,
     "metadata": {},
     "output_type": "execute_result"
    }
   ],
   "source": [
    "Fraction(10,5)"
   ]
  },
  {
   "cell_type": "code",
   "execution_count": 27,
   "metadata": {},
   "outputs": [
    {
     "name": "stdout",
     "output_type": "stream",
     "text": [
      "10/5\n"
     ]
    }
   ],
   "source": [
    "print(Fraction(10,5))"
   ]
  },
  {
   "cell_type": "markdown",
   "metadata": {},
   "source": [
    "### Question 10 : Demonstrate operator overloading by creating a class Vector and overriding the add method to add two vectors."
   ]
  },
  {
   "cell_type": "code",
   "execution_count": 156,
   "metadata": {},
   "outputs": [],
   "source": [
    "class Vector:\n",
    "    \n",
    "    def __init__(self,x,y):\n",
    "        self.x = x\n",
    "        self.y = y\n",
    "    \n",
    "    def __add__(self,other):\n",
    "        return Vector(self.x + other.x, self.y + other.y)\n",
    "    \n",
    "    def __str__(self):\n",
    "        return f\"Vector({self.x}, {self.y})\""
   ]
  },
  {
   "cell_type": "code",
   "execution_count": 157,
   "metadata": {},
   "outputs": [
    {
     "data": {
      "text/plain": [
       "<__main__.Vector at 0x1c6bbde7940>"
      ]
     },
     "execution_count": 157,
     "metadata": {},
     "output_type": "execute_result"
    }
   ],
   "source": [
    "v1 = Vector(2,4)\n",
    "v2 = Vector(5,7)\n",
    "result = v1 + v2\n",
    "result"
   ]
  },
  {
   "cell_type": "code",
   "execution_count": 158,
   "metadata": {},
   "outputs": [
    {
     "name": "stdout",
     "output_type": "stream",
     "text": [
      "Vector(7, 11)\n"
     ]
    }
   ],
   "source": [
    "print(result)"
   ]
  },
  {
   "cell_type": "markdown",
   "metadata": {},
   "source": [
    "### Question 11 : Create a class Person with attributes name and age. Add a method greet() that prints \"Hello, my name is {name} and I am {age} years old.\" "
   ]
  },
  {
   "cell_type": "code",
   "execution_count": 29,
   "metadata": {},
   "outputs": [],
   "source": [
    "class Person:\n",
    "    \n",
    "    def __init__(self, name , age):\n",
    "        self.name = name\n",
    "        self.age = age\n",
    "        \n",
    "    def greet(self):\n",
    "        print (f\"Hello , my name is {self.name} and I am {self.age} years old.\")"
   ]
  },
  {
   "cell_type": "code",
   "execution_count": 30,
   "metadata": {},
   "outputs": [],
   "source": [
    "ob1 = Person(\"Divyank\",27)"
   ]
  },
  {
   "cell_type": "code",
   "execution_count": 31,
   "metadata": {},
   "outputs": [
    {
     "name": "stdout",
     "output_type": "stream",
     "text": [
      "Hello , my name is Divyank and I am 27 years old.\n"
     ]
    }
   ],
   "source": [
    "ob1.greet()"
   ]
  },
  {
   "cell_type": "markdown",
   "metadata": {},
   "source": [
    "### Question 12 : Implement a class Student with attributes name and grades. Create a method average_grade() to compute the average of the grades."
   ]
  },
  {
   "cell_type": "code",
   "execution_count": 40,
   "metadata": {},
   "outputs": [],
   "source": [
    "class Student:\n",
    "    def __init__(self,names,grades):\n",
    "        self.names = names\n",
    "        self.grades = grades\n",
    "    \n",
    "    def average_grade(self):\n",
    "        sum_of_marks = 0\n",
    "        for i in (self.grades):\n",
    "            sum_of_marks+=i\n",
    "        print(\"Average is :\",sum_of_marks/len(self.grades))\n",
    "        \n",
    "        "
   ]
  },
  {
   "cell_type": "code",
   "execution_count": 41,
   "metadata": {},
   "outputs": [],
   "source": [
    "stud = Student(\"Divyank\",[96,90,95,99,95])"
   ]
  },
  {
   "cell_type": "code",
   "execution_count": 42,
   "metadata": {},
   "outputs": [
    {
     "name": "stdout",
     "output_type": "stream",
     "text": [
      "Average is : 95.0\n"
     ]
    }
   ],
   "source": [
    "stud.average_grade()"
   ]
  },
  {
   "cell_type": "markdown",
   "metadata": {},
   "source": [
    "### Question 13 : Create a class Rectangle with methods set_dimensions() to set the dimensions and area() to calculate the area."
   ]
  },
  {
   "cell_type": "code",
   "execution_count": 66,
   "metadata": {},
   "outputs": [],
   "source": [
    "class Rectangle:\n",
    "        \n",
    "    def set_dimensions(self,length,breadth):\n",
    "        self.length = length\n",
    "        self.breadth = breadth\n",
    "        \n",
    "    def area(self):\n",
    "        print(\"Area of the given dimension is :\",self.length*self.breadth)\n",
    "        "
   ]
  },
  {
   "cell_type": "code",
   "execution_count": 67,
   "metadata": {},
   "outputs": [],
   "source": [
    "rec = Rectangle()"
   ]
  },
  {
   "cell_type": "code",
   "execution_count": 68,
   "metadata": {},
   "outputs": [],
   "source": [
    "rec.set_dimensions(10,50)"
   ]
  },
  {
   "cell_type": "code",
   "execution_count": 69,
   "metadata": {},
   "outputs": [
    {
     "name": "stdout",
     "output_type": "stream",
     "text": [
      "Area of the given dimension is : 500\n"
     ]
    }
   ],
   "source": [
    "rec.area()"
   ]
  },
  {
   "cell_type": "markdown",
   "metadata": {},
   "source": [
    "### Question 14 : Create a class Employee with a method calculate_salary() that computes the salary based on hours worked and hourly rate. Create a derived class Manager that adds a bonus to the salary."
   ]
  },
  {
   "cell_type": "code",
   "execution_count": 94,
   "metadata": {},
   "outputs": [],
   "source": [
    "class Employee:\n",
    "    \n",
    "    def __init__(self,name,hoursWorked,hourlyRate):\n",
    "        self.name = name\n",
    "        self.hoursWorked = hoursWorked\n",
    "        self.hourlyRate = hourlyRate\n",
    "        \n",
    "    def calculateSalary(self):\n",
    "         return self.hoursWorked*self.hourlyRate\n",
    "      \n",
    "        \n",
    "class Manager(Employee):\n",
    "    \n",
    "    def __init__(self,name,hoursWorked,hourlyRate,bonus):\n",
    "        super().__init__(name,hoursWorked,hourlyRate)\n",
    "        self.bonus = bonus\n",
    "\n",
    "    def calculateSalary(self):\n",
    "        baseSalary = super().calculateSalary()\n",
    "        return baseSalary + self.bonus    "
   ]
  },
  {
   "cell_type": "code",
   "execution_count": 95,
   "metadata": {},
   "outputs": [
    {
     "name": "stdout",
     "output_type": "stream",
     "text": [
      "Divyank's salary : 140000\n"
     ]
    }
   ],
   "source": [
    "emp = Employee(\"Divyank\",14000,10)\n",
    "print(f\"{emp.name}'s salary : {emp.calculateSalary()}\")"
   ]
  },
  {
   "cell_type": "code",
   "execution_count": 97,
   "metadata": {},
   "outputs": [
    {
     "name": "stdout",
     "output_type": "stream",
     "text": [
      "Divyank's salary with 50000 bonus: 190000\n"
     ]
    }
   ],
   "source": [
    "man = Manager(\"Divyank\",14000,10,50000)\n",
    "print(f\"{man.name}'s salary with {man.bonus} bonus: {man.calculateSalary()}\")"
   ]
  },
  {
   "cell_type": "markdown",
   "metadata": {},
   "source": [
    "### Question 15 : Create a class Product with attributes name, price, and quantity. Implement a method total_price() that calculates the total price of the product."
   ]
  },
  {
   "cell_type": "code",
   "execution_count": 99,
   "metadata": {},
   "outputs": [],
   "source": [
    "class Product:\n",
    "    def __init__(self,name,price,quantity):\n",
    "        self.name = name\n",
    "        self.price = price\n",
    "        self.quantity = quantity\n",
    "        \n",
    "    def total_price(self):\n",
    "        return self.price*self.quantity"
   ]
  },
  {
   "cell_type": "code",
   "execution_count": 101,
   "metadata": {},
   "outputs": [
    {
     "name": "stdout",
     "output_type": "stream",
     "text": [
      "Divyank's total bill is : 225000\n"
     ]
    }
   ],
   "source": [
    "prod = Product(\"Divyank\",5000,45)\n",
    "print(f\"{prod.name}'s total bill is : {prod.total_price()}\")"
   ]
  },
  {
   "cell_type": "markdown",
   "metadata": {},
   "source": [
    "### Question 16 : Create a class Animal with an abstract method sound(). Create two derived classes Cow and Sheep that implement the sound() method."
   ]
  },
  {
   "cell_type": "code",
   "execution_count": 105,
   "metadata": {},
   "outputs": [],
   "source": [
    "import abc\n",
    "\n",
    "class Animal:\n",
    "    @abc.abstractmethod\n",
    "    def sound(self):\n",
    "        pass\n",
    "\n",
    "class Cow(Animal):\n",
    "    def sound(self):\n",
    "        print(\"Cow's Sound : Mooooooooo\")\n",
    "\n",
    "class Sheep(Animal):\n",
    "    def sound(self):\n",
    "        print(\"Sheep's Sound : Meeeeeeeee\")\n",
    "    "
   ]
  },
  {
   "cell_type": "code",
   "execution_count": 106,
   "metadata": {},
   "outputs": [],
   "source": [
    "ani1 = Cow()\n",
    "ani2 = Sheep()"
   ]
  },
  {
   "cell_type": "code",
   "execution_count": 107,
   "metadata": {},
   "outputs": [
    {
     "name": "stdout",
     "output_type": "stream",
     "text": [
      "Cow's Sound : Mooooooooo\n",
      "Sheep's Sound : Meeeeeeeee\n"
     ]
    }
   ],
   "source": [
    "ani1.sound()\n",
    "ani2.sound()"
   ]
  },
  {
   "cell_type": "markdown",
   "metadata": {},
   "source": [
    "### Question 17 : Create a class Book with attributes title, author, and year_published. Add a method get_book_info() that returns a formatted string with the book's details."
   ]
  },
  {
   "cell_type": "code",
   "execution_count": 115,
   "metadata": {},
   "outputs": [],
   "source": [
    "class Book:\n",
    "    def __init__(self,title,author,year_published):\n",
    "        self.title = title\n",
    "        self.author = author\n",
    "        self.year_published = year_published\n",
    "        \n",
    "    def get_book_info(self):\n",
    "        print(f\"Book Details : \\nName : {self.title}\\nAuthor : {self.author}\\nYear Published : {self.year_published}\")"
   ]
  },
  {
   "cell_type": "code",
   "execution_count": 117,
   "metadata": {},
   "outputs": [
    {
     "name": "stdout",
     "output_type": "stream",
     "text": [
      "Book Details : \n",
      "Name : Data Structure and Algorithm\n",
      "Author : Narsimha\n",
      "Year Published : 2011\n"
     ]
    }
   ],
   "source": [
    "b1 = Book(\"Data Structure and Algorithm\",\"Narsimha\",2011)\n",
    "b1.get_book_info()"
   ]
  },
  {
   "cell_type": "markdown",
   "metadata": {},
   "source": [
    "### Question 18 : Create a class House with attributes address and price. Create a derived class Mansion that adds an attribute number_of_rooms."
   ]
  },
  {
   "cell_type": "code",
   "execution_count": 140,
   "metadata": {},
   "outputs": [],
   "source": [
    "class House:\n",
    "    \n",
    "    def __init__(self,address,price):\n",
    "        self.address = address\n",
    "        self.price = price\n",
    "    \n",
    "    def __str__(self):\n",
    "        return (f\"House Address : {self.address} \\nHouse Price : {self.price}\")\n",
    "        \n",
    "class Mansion(House):\n",
    "    \n",
    "    def __init__(self,address,price,no_of_rooms):\n",
    "        super().__init__(address,price)\n",
    "        self.no_of_rooms = no_of_rooms\n",
    "        \n",
    "    def __str__(self):\n",
    "        return (f\"House Address : {self.address} \\nHouse Price : {self.price} \\nHouse Rooms : {self.no_of_rooms}\")    \n",
    "        "
   ]
  },
  {
   "cell_type": "code",
   "execution_count": 141,
   "metadata": {},
   "outputs": [
    {
     "name": "stdout",
     "output_type": "stream",
     "text": [
      "House Address : Suvikram Bhawan \n",
      "House Price : 2\n"
     ]
    }
   ],
   "source": [
    "h1 = House(\"Suvikram Bhawan\",2)\n",
    "print(h1)"
   ]
  },
  {
   "cell_type": "code",
   "execution_count": 142,
   "metadata": {},
   "outputs": [
    {
     "name": "stdout",
     "output_type": "stream",
     "text": [
      "House Address : Suvikram Bhawan \n",
      "House Price : 2 \n",
      "House Rooms : 10\n"
     ]
    }
   ],
   "source": [
    "m1 = Mansion(\"Suvikram Bhawan\",2,10)\n",
    "print(m1)"
   ]
  },
  {
   "cell_type": "markdown",
   "metadata": {},
   "source": [
    "### Thank You !"
   ]
  }
 ],
 "metadata": {
  "kernelspec": {
   "display_name": "Python 3",
   "language": "python",
   "name": "python3"
  },
  "language_info": {
   "codemirror_mode": {
    "name": "ipython",
    "version": 3
   },
   "file_extension": ".py",
   "mimetype": "text/x-python",
   "name": "python",
   "nbconvert_exporter": "python",
   "pygments_lexer": "ipython3",
   "version": "3.7.3"
  }
 },
 "nbformat": 4,
 "nbformat_minor": 2
}
